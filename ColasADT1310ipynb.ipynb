{
  "nbformat": 4,
  "nbformat_minor": 0,
  "metadata": {
    "colab": {
      "name": "ColasADT1310ipynb",
      "provenance": [],
      "collapsed_sections": [],
      "authorship_tag": "ABX9TyNWU4G2WXh+usXXJx3lFPJw",
      "include_colab_link": true
    },
    "kernelspec": {
      "name": "python3",
      "display_name": "Python 3"
    },
    "language_info": {
      "name": "python"
    }
  },
  "cells": [
    {
      "cell_type": "markdown",
      "metadata": {
        "id": "view-in-github",
        "colab_type": "text"
      },
      "source": [
        "<a href=\"https://colab.research.google.com/github/victorceddiaz/Cuestionario-14-de-Control/blob/main/ColasADT1310ipynb.ipynb\" target=\"_parent\"><img src=\"https://colab.research.google.com/assets/colab-badge.svg\" alt=\"Open In Colab\"/></a>"
      ]
    },
    {
      "cell_type": "markdown",
      "metadata": {
        "id": "UZp4MImUaJJp"
      },
      "source": [
        "#Cuestionario 14 de Control. Actividad en clase\n",
        "\n",
        "Alumno: Cedillo Díaz Victor Antonio\n",
        "\n",
        "Grupo: 1310\n",
        "\n",
        "Materia: Estructura de Datos"
      ]
    },
    {
      "cell_type": "markdown",
      "metadata": {
        "id": "bQSY-WgzKob-"
      },
      "source": [
        "# Colas ADT"
      ]
    },
    {
      "cell_type": "code",
      "metadata": {
        "id": "ZdHONlrjJnCr"
      },
      "source": [
        "class Queue:\n",
        "    def __init__(self) :\n",
        "        self.data = []\n",
        "\n",
        "    def is_empty(self) :\n",
        "        return len(self.data) == 0  \n",
        "    \n",
        "    def length(self) :\n",
        "        return len(self.data)\n",
        "\n",
        "    def enqueue(self, value) :\n",
        "        self.data.append(value)\n",
        "    \n",
        "    def dequeue(self) :\n",
        "        return self.data.pop(0)\n",
        "    \n",
        "    def to_string(self) :\n",
        "        for elem in self.data :\n",
        "            print(f'|{elem}| <-- ', end=\"\")\n",
        "        print(\"\")"
      ],
      "execution_count": null,
      "outputs": []
    },
    {
      "cell_type": "code",
      "metadata": {
        "colab": {
          "base_uri": "https://localhost:8080/"
        },
        "id": "5pjPdof8NifX",
        "outputId": "b77148d7-57ae-4e5d-8edd-9df91e3b1bc5"
      },
      "source": [
        "cola = Queue()\n",
        "print(\"Esta vacío? : \", cola.is_empty())\n",
        "print(\"Núm de elementos : \", cola.length())\n",
        "cola.enqueue(10)\n",
        "cola.enqueue(20)\n",
        "cola.enqueue(30)\n",
        "print(\"Esta vacío? : \", cola.is_empty())\n",
        "print(\"Núm de elementos : \", cola.length())\n",
        "cola.enqueue(40)\n",
        "cola.enqueue(50)\n",
        "cola.enqueue(60)\n",
        "cola.to_string()\n",
        "siguiente = cola.dequeue()\n",
        "print(\"Atendiendo a : \", siguiente)\n",
        "cola.to_string()"
      ],
      "execution_count": null,
      "outputs": [
        {
          "output_type": "stream",
          "name": "stdout",
          "text": [
            "Esta vacío? :  True\n",
            "Núm de elementos :  0\n",
            "Esta vacío? :  False\n",
            "Núm de elementos :  3\n",
            "|10| <-- |20| <-- |30| <-- |40| <-- |50| <-- |60| <-- \n",
            "Atendiendo a :  10\n",
            "|20| <-- |30| <-- |40| <-- |50| <-- |60| <-- \n"
          ]
        }
      ]
    },
    {
      "cell_type": "markdown",
      "metadata": {
        "id": "UdUAuuuLQkZK"
      },
      "source": [
        "#Variantes del ADT Cola\n",
        "\n",
        "1. Circulares\n",
        "2. Prioridad\n",
        "    1. Acotada\n",
        "    2. No acotada\n"
      ]
    },
    {
      "cell_type": "code",
      "metadata": {
        "id": "iPXuHJ0cDyMF"
      },
      "source": [
        "# Colas con Prioridad Acotada\n",
        "\n",
        "class BoundedPriorityQueue :\n",
        "    def __init__(self, niveles) :\n",
        "        self.__data = [Queue() for x in range(niveles)] \n",
        "        # self.__data = Array(niveles)\n",
        "        # self.__data.clear(Queue())\n",
        "        self.__size = 0\n",
        "    \n",
        "    def is_empty(self) :\n",
        "        return self.__size == 0\n",
        "\n",
        "    def length(self) :\n",
        "        return self.__size \n",
        "    \n",
        "    def enqueue(self, prioridad, elem) :\n",
        "        if prioridad <= len(self.__data) and prioridad >= 0 :\n",
        "            self.__data[prioridad].enqueue(elem)\n",
        "            self.__size += 1\n",
        "    \n",
        "    def dequeue(self) :\n",
        "        nivel = 0\n",
        "        while self.__data[nivel].is_empty() and nivel < self.length():\n",
        "            nivel += 1\n",
        "        if nivel >= self.length() :\n",
        "            print(\"La cola esta vacía.\")\n",
        "        else :\n",
        "            return self.__data[nivel].dequeue()\n",
        "    \n",
        "    def to_string(self) :\n",
        "        prioridad = 0\n",
        "        for cola in self.__data :\n",
        "            print(f'Prioridad {prioridad} ->', end=\"\")\n",
        "            cola.to_string()\n",
        "            prioridad += 1"
      ],
      "execution_count": null,
      "outputs": []
    },
    {
      "cell_type": "code",
      "metadata": {
        "colab": {
          "base_uri": "https://localhost:8080/"
        },
        "id": "7KHra4WHLSv4",
        "outputId": "884d709e-43c9-4928-d136-45e0711d3ae6"
      },
      "source": [
        "salvavidas = BoundedPriorityQueue(7)\n",
        "salvavidas.enqueue(4, \"Maestre\")\n",
        "salvavidas.enqueue(1, \"Niños\")\n",
        "salvavidas.enqueue(4, \"Mecánico\")\n",
        "salvavidas.enqueue(3, \"Mujeres\")\n",
        "salvavidas.enqueue(2, \"Tercera Edad\")\n",
        "salvavidas.enqueue(1, \"Niñas\")\n",
        "salvavidas.enqueue(3, \"Hombres\")\n",
        "salvavidas.enqueue(4, \"Vigia\")\n",
        "salvavidas.enqueue(5, \"Capitán\")\n",
        "salvavidas.enqueue(4, \"Timonel\")\n",
        "salvavidas.to_string()\n",
        "print(\"\")\n",
        "sig = salvavidas.dequeue()\n",
        "print(f'Subiendo {sig} al bote salvavidas.')\n",
        "print(\"\")\n",
        "salvavidas.to_string()\n",
        "print(\"\")\n",
        "sig = salvavidas.dequeue()\n",
        "print(f'Subiendo {sig} al bote salvavidas.')\n",
        "print(\"\")\n",
        "salvavidas.to_string()"
      ],
      "execution_count": null,
      "outputs": [
        {
          "output_type": "stream",
          "name": "stdout",
          "text": [
            "Prioridad 0 ->\n",
            "Prioridad 1 ->|Niños| <-- |Niñas| <-- \n",
            "Prioridad 2 ->|Tercera Edad| <-- \n",
            "Prioridad 3 ->|Mujeres| <-- |Hombres| <-- \n",
            "Prioridad 4 ->|Maestre| <-- |Mecánico| <-- |Vigia| <-- |Timonel| <-- \n",
            "Prioridad 5 ->|Capitán| <-- \n",
            "Prioridad 6 ->\n",
            "\n",
            "Subiendo Niños al bote salvavidas.\n",
            "\n",
            "Prioridad 0 ->\n",
            "Prioridad 1 ->|Niñas| <-- \n",
            "Prioridad 2 ->|Tercera Edad| <-- \n",
            "Prioridad 3 ->|Mujeres| <-- |Hombres| <-- \n",
            "Prioridad 4 ->|Maestre| <-- |Mecánico| <-- |Vigia| <-- |Timonel| <-- \n",
            "Prioridad 5 ->|Capitán| <-- \n",
            "Prioridad 6 ->\n",
            "\n",
            "Subiendo Niñas al bote salvavidas.\n",
            "\n",
            "Prioridad 0 ->\n",
            "Prioridad 1 ->\n",
            "Prioridad 2 ->|Tercera Edad| <-- \n",
            "Prioridad 3 ->|Mujeres| <-- |Hombres| <-- \n",
            "Prioridad 4 ->|Maestre| <-- |Mecánico| <-- |Vigia| <-- |Timonel| <-- \n",
            "Prioridad 5 ->|Capitán| <-- \n",
            "Prioridad 6 ->\n"
          ]
        }
      ]
    },
    {
      "cell_type": "code",
      "metadata": {
        "id": "9p83J-u1R0q3"
      },
      "source": [
        " # Implementaciónde colas de prioridad sin acotamiento\n",
        "\n",
        " class PriorityQueue :\n",
        "    def __init__(self) :\n",
        "        self.__data = []\n",
        "        self.__size = 0\n",
        "\n",
        "    def is_empty(self) :\n",
        "        return self.__size == 0\n",
        "\n",
        "    def length(self) :\n",
        "        return self.__size \n",
        "    \n",
        "    def enqueue(self , prioridad , elem ):\n",
        "        existe = False\n",
        "        indice = 0\n",
        "        for index in range(len(self.__data)):\n",
        "            if self.__data[index][ \"Prioridad\" ] == prioridad:\n",
        "                existe = True\n",
        "                indice = index\n",
        "        \n",
        "        if existe:\n",
        "            self.__data[indice][\"Cola\"].enqueue(elem)\n",
        "        else:\n",
        "            self.__data.append( {\"Prioridad\":prioridad , \"Cola\": Queue() } )\n",
        "            self.__data[-1][\"Cola\"].enqueue(elem)\n",
        "\n",
        "    def to_string(self) :\n",
        "        for cola in self.__data:\n",
        "            print(cola[\"Prioridad\"], end=\"\")\n",
        "            cola[\"Cola\"].to_string()"
      ],
      "execution_count": 35,
      "outputs": []
    },
    {
      "cell_type": "code",
      "metadata": {
        "colab": {
          "base_uri": "https://localhost:8080/"
        },
        "id": "bCAtLJLZTKH0",
        "outputId": "01c66043-f700-41e8-d94b-412b6444dd49"
      },
      "source": [
        "cp = PriorityQueue()\n",
        "cp.enqueue(1, \"Niñas\")\n",
        "cp.enqueue(2, \"Niños\")\n",
        "cp.enqueue(2, \"Profesores\")\n",
        "cp.enqueue(0, \"PresidenteEU\")\n",
        "cp.enqueue(10, \"PresidenteMEX\")\n",
        "cp.to_string()"
      ],
      "execution_count": 38,
      "outputs": [
        {
          "output_type": "stream",
          "name": "stdout",
          "text": [
            "1|Niñas| <-- \n",
            "2|Niños| <-- |Profesores| <-- \n",
            "0|PresidenteEU| <-- \n",
            "10|PresidenteMEX| <-- \n"
          ]
        }
      ]
    }
  ]
}